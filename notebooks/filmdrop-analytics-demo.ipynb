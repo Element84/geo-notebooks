{
 "cells": [
  {
   "cell_type": "markdown",
   "id": "72ce7dad-49bb-4ecf-bc1f-0d55ed61d276",
   "metadata": {
    "tags": []
   },
   "source": [
    "# FilmDrop Analytics with Sentinel-2\n",
    "### Created by Element 84: http://element84.com/\n",
    "\n",
    "This notebook explores Sentinel-2 data on Earth Search using\n",
    "\n",
    " - Earth Search STAC API: https://earth-search.aws.element84.com/v1/, catalog of public data\n",
    " - pystac-client: https://pystac-client.readthedocs.io/, for searching and access data\n",
    " - OpenDataCube: https://www.opendatacube.org/ and odc-stac https://odc-stac.readthedocs.io/ for loading STAC assets and representing geospatial data as XArrays\n",
    " - XArray: http://xarray.pydata.org/en/stable/, pandas https://pandas.pydata.org/ and geopandas https://geopandas.org/ for manipulating data\n",
    " - Dask: https://dask.org/ for performing parallel, distributed computing\n",
    " - Folium https://python-visualization.github.io/folium/index.html and hvplot https://hvplot.holoviz.org/ for visualization\n",
    "\n",
    "Shown will be how find data for an area of interest, explore the resulting metadata,\n",
    "perform calculations, and visualize the results."
   ]
  },
  {
   "cell_type": "code",
   "execution_count": null,
   "id": "920ed19f-f124-4537-b2a1-8ecfd9f60fac",
   "metadata": {
    "tags": []
   },
   "outputs": [],
   "source": [
    "# set pystac_client logger to DEBUG to see API calls\n",
    "import logging\n",
    "logging.basicConfig()\n",
    "logger = logging.getLogger('pystac_client')\n",
    "logger.setLevel(logging.INFO)\n",
    "\n",
    "# ItemMap class for display on a slippy map\n",
    "\n",
    "import folium\n",
    "import requests\n",
    "\n",
    "class ItemMap(object):\n",
    "    _colors = {\n",
    "        'red': '#fc0f03',\n",
    "        'green': '#27AD0C',\n",
    "        'blue': '#0f03fc'\n",
    "    }\n",
    "    \n",
    "    def __init__(self, item, tiles='Stamen Watercolor'):\n",
    "        self.item = item\n",
    "        self.m = folium.Map(tiles=tiles)\n",
    "        sw = item.bbox[1], item.bbox[0]\n",
    "        ne = item.bbox[3], item.bbox[2]\n",
    "        self.m.fit_bounds([sw, ne])\n",
    "        self.legend = {}\n",
    "\n",
    "    def display(self):\n",
    "        return self.m\n",
    "    \n",
    "    @classmethod\n",
    "    def create_map(cls, item, **kwargs):\n",
    "        m = cls(item[0], **kwargs)\n",
    "        \n",
    "        # original footprint\n",
    "        m.add_item(item, name='', color='red', weight=6)\n",
    "\n",
    "        # add image asset\n",
    "        #href = item.assets[asset].href\n",
    "        #m.add_asset(href)\n",
    "        return m\n",
    "\n",
    "    def add_item(self, item, name, color='red', weight=2):\n",
    "        style = {\n",
    "            'fillColor': '#00000000',\n",
    "            'color': self._colors[color],\n",
    "            'weight': weight\n",
    "        }\n",
    "        folium.GeoJson(item.to_dict(), style_function=lambda x: style).add_to(self.m)\n",
    "        #label = f\"{name} {summarize_geometry(item)}\"\n",
    "        #self.legend[label] = self._colors[color]\n",
    "        \n",
    "    def add_geom(self, geom, name, color='blue', weight=2):\n",
    "        style = {\n",
    "            'fillColor': '#00000000',\n",
    "            'color': self._colors[color],\n",
    "            'weight': weight\n",
    "        }\n",
    "        folium.GeoJson(geom, style_function=lambda x: style).add_to(self.m)\n",
    "\n",
    "    def add_asset(self, href):\n",
    "        # add image\n",
    "        stats = requests.get(f\"http://titiler:8000/cog/statistics?url=\" + href).json()['1']\n",
    "        tileset = \"http://127.0.0.1:8000/cog/tiles/{z}/{x}/{y}?&url=\" + href\n",
    "        tileset = tileset + f\"&rescale={stats['percentile_2']},{stats['percentile_98']}\"\n",
    "        tile_layer = folium.TileLayer(\n",
    "            tiles = tileset,\n",
    "            attr=item.id\n",
    "        )\n",
    "        tile_layer.add_to(self.m)\n"
   ]
  },
  {
   "cell_type": "code",
   "execution_count": null,
   "id": "8143e299-9d31-4b13-a8e3-ce59edd8379d",
   "metadata": {},
   "outputs": [],
   "source": [
    "# Use pystac-client to find data in the Earth Search STAC API.\n",
    "#\n",
    "# Open the Earth Search STAC API\n",
    "\n",
    "from pystac_client import Client\n",
    "URL = 'https://earth-search.aws.element84.com/v1/'\n",
    "api = Client.open(URL)\n",
    "print(api)"
   ]
  },
  {
   "cell_type": "code",
   "execution_count": null,
   "id": "79b862db-b9c2-45bd-add3-6b44ba85d777",
   "metadata": {},
   "outputs": [],
   "source": [
    "# Fetch the collection of interest and print the assets that are available.\n",
    "import pandas as pd\n",
    "\n",
    "collection = api.get_collection('sentinel-2-l2a')\n",
    "pd.DataFrame.from_dict(collection.to_dict()['item_assets'], orient='index')"
   ]
  },
  {
   "cell_type": "code",
   "execution_count": null,
   "id": "0e489082-c85b-4242-9b41-cbc7d790c49c",
   "metadata": {},
   "outputs": [],
   "source": [
    "# load the geometry of the AOI (GeoJSON Feature)\n",
    "filename = \"aois/bear-fire.geojson\"\n",
    "from pathlib import Path\n",
    "from json import loads\n",
    "geom = loads(Path(filename).read_text())['geometry']\n",
    "\n",
    "import geopandas as gpd\n",
    "aoi = gpd.read_file(filename)['geometry'][0]\n",
    "\n",
    "query = api.search(\n",
    "    collections=[\"sentinel-2-l2a\"],\n",
    "    intersects=geom,\n",
    "    datetime=\"2019-10-01/2021-10-01\",\n",
    "    limit=100,\n",
    "    query = [\n",
    "        \"eo:cloud_cover<10\"\n",
    "    ]\n",
    ")\n",
    "item_collection = query.item_collection()\n",
    "\n",
    "print(f\"Found: {len(item_collection):d} STAC Items\")\n",
    "item_collection"
   ]
  },
  {
   "cell_type": "code",
   "execution_count": null,
   "id": "65834b73-a05b-43f2-af38-c27849e36bf4",
   "metadata": {},
   "outputs": [],
   "source": [
    "# view footprints\n",
    "\n",
    "asset = 'visual'\n",
    "    \n",
    "m = ItemMap.create_map(item_collection, tiles='OpenStreetMap')\n",
    "\n",
    "m.add_geom(geom, 'aoi', color='blue', weight=4)\n",
    "\n",
    "display(m.display())"
   ]
  },
  {
   "cell_type": "code",
   "execution_count": null,
   "id": "ba5bc135-57a3-47a3-b242-77e7959c0a94",
   "metadata": {},
   "outputs": [],
   "source": [
    "%%time\n",
    "# Here we load as a DataCube. A PySTAC ItemCollection is created from the found STAC Items,\n",
    "# and we specify various parameters, such as bands of interest and chunk size.\n",
    "# We are requesting to only load pixels within a bounding box of the requested\n",
    "# geometry (`bbox=geom.bounds`).\n",
    "\n",
    "from odc.stac import stac_load\n",
    "\n",
    "dc = stac_load(item_collection,\n",
    "               measurements=['red', 'green', 'blue', 'nir'],\n",
    "               chunks={\"x\": 1024, \"y\": 1024},\n",
    "               bbox=aoi.bounds,\n",
    "               groupby='solar_day',\n",
    ")\n",
    "dc"
   ]
  },
  {
   "cell_type": "code",
   "execution_count": null,
   "id": "6b24cb37-5119-4223-8a6e-f244b6801af6",
   "metadata": {},
   "outputs": [],
   "source": [
    "# Calculations\n",
    "#\n",
    "# We will create an RGBA datacube representation (`nodata` values have `alpha=0`),\n",
    "# and generate an NDVI datacube.\n",
    "\n",
    "vis = dc.odc.to_rgba(vmin=1, vmax=2000, bands=['blue', 'green', 'red'])\n",
    "vis"
   ]
  },
  {
   "cell_type": "code",
   "execution_count": null,
   "id": "0203f638-a320-429b-b74c-ed7d1c26141f",
   "metadata": {},
   "outputs": [],
   "source": [
    "ndvi = ((dc['nir'] - dc['red']) / (dc['nir'] + dc['red'])).clip(0, 1).rename(\"ndvi\")\n",
    "ndvi"
   ]
  },
  {
   "cell_type": "code",
   "execution_count": null,
   "id": "ac75f420-213a-4f43-b48f-365d9c1c82c2",
   "metadata": {},
   "outputs": [],
   "source": [
    "from dask_gateway import Gateway, GatewayCluster\n",
    "\n",
    "gw = Gateway()\n",
    "clusters = gw.list_clusters()\n",
    "\n",
    "# Max number of CPU cores per worker 1 / Max memory per worker 4GB\n",
    "# Specifying a bit less than whole number values for cpu cores and memory \n",
    "# will allow Dask worker pods to be packed more tightly onto \n",
    "# the underlying EC2 instances.\n",
    "# It will take a few minutes for the underlying EC2 instances to be created and for\n",
    "# the Dask Workers to be scheduled onto those EC2 instances.\n",
    "# Running the client command as you see below will provide a dashboard view of the\n",
    "# number of workers that have been successfully brought online.\n",
    "\n",
    "if len(clusters) == 0:\n",
    "    cluster = GatewayCluster(worker_cores=0.8, worker_memory=3.6)\n",
    "else:\n",
    "    cluster = gw.connect(clusters[0].name)\n",
    "\n",
    "cluster.scale(25)\n",
    "client = cluster.get_client()\n",
    "client"
   ]
  },
  {
   "cell_type": "code",
   "execution_count": null,
   "id": "33ae9868-399e-41f2-b29c-04ae86d70d13",
   "metadata": {},
   "outputs": [],
   "source": [
    "%%time\n",
    "\n",
    "# Now, we kick off our Dask computation by using the Dask persist function,\n",
    "# which will keep the data in memory on the cluster for faster access later.\n",
    "#\n",
    "# The Dask `compute` function is used when we actually want the data, such as displaying it.\n",
    "\n",
    "from dask.distributed import wait\n",
    "\n",
    "ndvi, vis = client.persist([ndvi, vis])\n",
    "_ = wait([ndvi, vis])"
   ]
  },
  {
   "cell_type": "code",
   "execution_count": null,
   "id": "6bcd40f7-1817-42cf-a07f-2b5dc83dfa2e",
   "metadata": {},
   "outputs": [],
   "source": [
    "%%time\n",
    "\n",
    "vis_ = vis.compute()\n",
    "\n",
    "import hvplot.xarray\n",
    "\n",
    "hvplot_kwargs = {\n",
    "    \"frame_width\": 800,\n",
    "    \"xaxis\": None,\n",
    "    \"yaxis\": None,\n",
    "    \"widget_location\": \"bottom\",\n",
    "    \"aspect\": len(vis.x)/len(vis.y)\n",
    "}\n",
    "\n",
    "vis_.hvplot.rgb('x', 'y', bands='band', groupby='time', **hvplot_kwargs)"
   ]
  },
  {
   "cell_type": "code",
   "execution_count": null,
   "id": "d2f4c9a7-0c36-42bd-afcf-4e08abceef8f",
   "metadata": {},
   "outputs": [],
   "source": [
    "ndvi_ = ndvi.compute()\n",
    "ndvi_.hvplot('x', 'y', groupby='time', **hvplot_kwargs)"
   ]
  },
  {
   "cell_type": "code",
   "execution_count": null,
   "id": "3ebca306-75f1-4e29-8a0b-33d88c20a14a",
   "metadata": {
    "tags": []
   },
   "outputs": [],
   "source": [
    "%%time\n",
    "ndvi_mean = ndvi.mean(dim=['x', 'y']).compute()\n",
    "ndvi_mean.hvplot()"
   ]
  },
  {
   "cell_type": "code",
   "execution_count": null,
   "id": "8f31714c-f00e-409b-b294-7fe17cb328f2",
   "metadata": {
    "tags": []
   },
   "outputs": [],
   "source": [
    "# Stopping Dask cluster and cleaning resources\n",
    "\n",
    "client.close()\n",
    "cluster.shutdown()\n",
    "cluster.close()"
   ]
  },
  {
   "cell_type": "code",
   "execution_count": null,
   "id": "c6c974a1-3171-4abf-bc88-d3e9086f0ffa",
   "metadata": {},
   "outputs": [],
   "source": []
  }
 ],
 "metadata": {
  "kernelspec": {
   "display_name": "Python 3 (ipykernel)",
   "language": "python",
   "name": "python3"
  },
  "language_info": {
   "codemirror_mode": {
    "name": "ipython",
    "version": 3
   },
   "file_extension": ".py",
   "mimetype": "text/x-python",
   "name": "python",
   "nbconvert_exporter": "python",
   "pygments_lexer": "ipython3",
   "version": "3.10.8"
  }
 },
 "nbformat": 4,
 "nbformat_minor": 5
}
